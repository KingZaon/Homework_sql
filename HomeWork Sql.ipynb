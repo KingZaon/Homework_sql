{
 "cells": [
  {
   "cell_type": "code",
   "execution_count": null,
   "metadata": {},
   "outputs": [],
   "source": [
    "create table departments(\n",
    "\tdept_no int,\n",
    "\tdept_name VARCHAR\n",
    ")"
   ]
  },
  {
   "cell_type": "code",
   "execution_count": null,
   "metadata": {},
   "outputs": [],
   "source": [
    "create table department_employees(\n",
    "\temp_no int not null,\n",
    "\tdept_no VARCHAR(500),\n",
    "\tfrom_date timestamp,\n",
    "\tto_date timestamp\n",
    ");"
   ]
  },
  {
   "cell_type": "code",
   "execution_count": null,
   "metadata": {},
   "outputs": [],
   "source": [
    "create table department_managers(\n",
    "\tdept_no VARCHAR(500),\n",
    "\temo_no int not null,\n",
    "\tfrom_date timestamp,\n",
    "\tto_date timestamp\n",
    ");"
   ]
  },
  {
   "cell_type": "code",
   "execution_count": null,
   "metadata": {},
   "outputs": [],
   "source": [
    "create table employees(\n",
    "\temp_no int not null,\n",
    "\tbirth_date timestamp,\n",
    "\tfirst_name VARCHAR(500),\n",
    "\tlast_name VARCHAR(500),\n",
    "\tgender VARCHAR(150),\n",
    "\thire_date timestamp\n",
    ");"
   ]
  },
  {
   "cell_type": "code",
   "execution_count": null,
   "metadata": {},
   "outputs": [],
   "source": [
    "create table salaries(\n",
    "\temp_no int not null,\n",
    "\tsalary int not null,\n",
    "\tfrom_date timestamp,\n",
    "\tto_date timestamp\n",
    ");\n"
   ]
  },
  {
   "cell_type": "code",
   "execution_count": null,
   "metadata": {},
   "outputs": [],
   "source": [
    "create table titles(\n",
    "\temp_no int not null,\n",
    "\ttitle VARCHAR(500),\n",
    "\tfrom_date timestamp,\n",
    "\tto_date timestamp\n",
    ");"
   ]
  },
  {
   "cell_type": "code",
   "execution_count": null,
   "metadata": {},
   "outputs": [],
   "source": [
    "--create First Table\n",
    "\n",
    "select employees.emp_no, employees.last_name, employees.first_name, employees.gender, salary.salary\n",
    "from employees\n",
    "join salaries as salary\n",
    "on employees.emp_no = salary.emp_no;"
   ]
  },
  {
   "cell_type": "code",
   "execution_count": null,
   "metadata": {},
   "outputs": [],
   "source": [
    "--create Second Table\n",
    "\n",
    "select hire_date\n",
    "from employees\n",
    "where extract(year from hire_date) = '1986';"
   ]
  },
  {
   "cell_type": "code",
   "execution_count": null,
   "metadata": {},
   "outputs": [],
   "source": [
    "--create Third Table\n",
    "\n",
    "select dm.dept_no, dm.emp_no, e.last_name, e.first_name, dm.from_date, dm.to_date\n",
    "from department_managers as dm\n",
    "left join employees as e\n",
    "on dm.emp_no = e.emp_no;\n"
   ]
  },
  {
   "cell_type": "code",
   "execution_count": null,
   "metadata": {},
   "outputs": [],
   "source": [
    "--create Fourth Table\n",
    "\n",
    "select de.emo_no, e.last_name, e.first_name, d.dept_no\n",
    "from department_employees as de\n",
    "left join employees as e\n",
    "on de.emo_no = e.emp_no\n",
    "left join departments as d\n",
    "on de.dept_no = d.dept_no;"
   ]
  },
  {
   "cell_type": "code",
   "execution_count": null,
   "metadata": {},
   "outputs": [],
   "source": [
    "\n",
    "--create Fift Table\n",
    "\n",
    "select * from employees\n",
    "where(fist_name like 'Hercules' and last_name like '%B%';"
   ]
  },
  {
   "cell_type": "code",
   "execution_count": null,
   "metadata": {},
   "outputs": [],
   "source": [
    "\t  \n",
    "--create Sixth Table\n",
    "\t  \n",
    "select e.emp_no, e.last_name, e.first_name, d.dept_name\n",
    "from employees as e\n",
    "left join department_employees as de\n",
    "on e.emp_no = de.emo_no\n",
    "left join departments as d\n",
    "on d.dept_no = de.dept_no\n",
    "where d.dept_name like 'Sales';"
   ]
  },
  {
   "cell_type": "code",
   "execution_count": null,
   "metadata": {},
   "outputs": [],
   "source": [
    "\t  \n",
    "--create Seventh Table\n",
    "\n",
    "select e.emp_no, e.last_name, e.first_name, d.dept_name\n",
    "from employees as e\n",
    "left join department_employees as de\n",
    "on e.emp_no = de.emo_no\n",
    "left join departments as d\n",
    "on d.dept_no = de.dept_no\n",
    "where d.dept_name like 'Sales'\n",
    "or d.dept_name like 'Development';\n"
   ]
  },
  {
   "cell_type": "code",
   "execution_count": null,
   "metadata": {},
   "outputs": [],
   "source": [
    "\t  \n",
    "--create Eigth Table\n",
    "\t  \n",
    "select last_name,\n",
    "count(last_name) as \"name_count\"\n",
    "from employees\n",
    "group by\n",
    "last_name\n",
    "order by name_count desc;"
   ]
  }
 ],
 "metadata": {
  "kernelspec": {
   "display_name": "Python 3",
   "language": "python",
   "name": "python3"
  },
  "language_info": {
   "codemirror_mode": {
    "name": "ipython",
    "version": 3
   },
   "file_extension": ".py",
   "mimetype": "text/x-python",
   "name": "python",
   "nbconvert_exporter": "python",
   "pygments_lexer": "ipython3",
   "version": "3.7.3"
  }
 },
 "nbformat": 4,
 "nbformat_minor": 2
}
